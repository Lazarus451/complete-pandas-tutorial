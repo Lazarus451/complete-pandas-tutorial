{
 "cells": [
  {
   "metadata": {
    "ExecuteTime": {
     "end_time": "2025-08-17T05:36:21.813548Z",
     "start_time": "2025-08-17T05:36:21.809976Z"
    }
   },
   "cell_type": "code",
   "source": [
    "import numpy as np\n",
    "import matplotlib.pyplot as plt\n",
    "import pandas as pd\n",
    "import seaborn as sns\n"
   ],
   "id": "1462d0c4864697d6",
   "outputs": [],
   "execution_count": 83
  },
  {
   "metadata": {
    "ExecuteTime": {
     "end_time": "2025-08-17T05:36:21.993132Z",
     "start_time": "2025-08-17T05:36:21.823965Z"
    }
   },
   "cell_type": "code",
   "source": "df = pd.read_csv('data/bios.csv')",
   "id": "a88411824103332e",
   "outputs": [],
   "execution_count": 84
  },
  {
   "metadata": {
    "ExecuteTime": {
     "end_time": "2025-08-17T05:36:22.005725Z",
     "start_time": "2025-08-17T05:36:21.999820Z"
    }
   },
   "cell_type": "code",
   "source": "df.head()",
   "id": "efb7d574a5f6375",
   "outputs": [
    {
     "data": {
      "text/plain": [
       "   athlete_id                   name   born_date    born_city  \\\n",
       "0           1  Jean-François Blanchy  1886-12-12     Bordeaux   \n",
       "1           2         Arnaud Boetsch  1969-04-01       Meulan   \n",
       "2           3           Jean Borotra  1898-08-13     Biarritz   \n",
       "3           4        Jacques Brugnon  1895-05-11  Paris VIIIe   \n",
       "4           5           Albert Canet  1878-04-17   Wandsworth   \n",
       "\n",
       "            born_region born_country     NOC  height_cm  weight_kg   died_date  \n",
       "0               Gironde          FRA  France        NaN        NaN  1960-10-02  \n",
       "1              Yvelines          FRA  France      183.0       76.0         NaN  \n",
       "2  Pyrénées-Atlantiques          FRA  France      183.0       76.0  1994-07-17  \n",
       "3                 Paris          FRA  France      168.0       64.0  1978-03-20  \n",
       "4               England          GBR  France        NaN        NaN  1930-07-25  "
      ],
      "text/html": [
       "<div>\n",
       "<style scoped>\n",
       "    .dataframe tbody tr th:only-of-type {\n",
       "        vertical-align: middle;\n",
       "    }\n",
       "\n",
       "    .dataframe tbody tr th {\n",
       "        vertical-align: top;\n",
       "    }\n",
       "\n",
       "    .dataframe thead th {\n",
       "        text-align: right;\n",
       "    }\n",
       "</style>\n",
       "<table border=\"1\" class=\"dataframe\">\n",
       "  <thead>\n",
       "    <tr style=\"text-align: right;\">\n",
       "      <th></th>\n",
       "      <th>athlete_id</th>\n",
       "      <th>name</th>\n",
       "      <th>born_date</th>\n",
       "      <th>born_city</th>\n",
       "      <th>born_region</th>\n",
       "      <th>born_country</th>\n",
       "      <th>NOC</th>\n",
       "      <th>height_cm</th>\n",
       "      <th>weight_kg</th>\n",
       "      <th>died_date</th>\n",
       "    </tr>\n",
       "  </thead>\n",
       "  <tbody>\n",
       "    <tr>\n",
       "      <th>0</th>\n",
       "      <td>1</td>\n",
       "      <td>Jean-François Blanchy</td>\n",
       "      <td>1886-12-12</td>\n",
       "      <td>Bordeaux</td>\n",
       "      <td>Gironde</td>\n",
       "      <td>FRA</td>\n",
       "      <td>France</td>\n",
       "      <td>NaN</td>\n",
       "      <td>NaN</td>\n",
       "      <td>1960-10-02</td>\n",
       "    </tr>\n",
       "    <tr>\n",
       "      <th>1</th>\n",
       "      <td>2</td>\n",
       "      <td>Arnaud Boetsch</td>\n",
       "      <td>1969-04-01</td>\n",
       "      <td>Meulan</td>\n",
       "      <td>Yvelines</td>\n",
       "      <td>FRA</td>\n",
       "      <td>France</td>\n",
       "      <td>183.0</td>\n",
       "      <td>76.0</td>\n",
       "      <td>NaN</td>\n",
       "    </tr>\n",
       "    <tr>\n",
       "      <th>2</th>\n",
       "      <td>3</td>\n",
       "      <td>Jean Borotra</td>\n",
       "      <td>1898-08-13</td>\n",
       "      <td>Biarritz</td>\n",
       "      <td>Pyrénées-Atlantiques</td>\n",
       "      <td>FRA</td>\n",
       "      <td>France</td>\n",
       "      <td>183.0</td>\n",
       "      <td>76.0</td>\n",
       "      <td>1994-07-17</td>\n",
       "    </tr>\n",
       "    <tr>\n",
       "      <th>3</th>\n",
       "      <td>4</td>\n",
       "      <td>Jacques Brugnon</td>\n",
       "      <td>1895-05-11</td>\n",
       "      <td>Paris VIIIe</td>\n",
       "      <td>Paris</td>\n",
       "      <td>FRA</td>\n",
       "      <td>France</td>\n",
       "      <td>168.0</td>\n",
       "      <td>64.0</td>\n",
       "      <td>1978-03-20</td>\n",
       "    </tr>\n",
       "    <tr>\n",
       "      <th>4</th>\n",
       "      <td>5</td>\n",
       "      <td>Albert Canet</td>\n",
       "      <td>1878-04-17</td>\n",
       "      <td>Wandsworth</td>\n",
       "      <td>England</td>\n",
       "      <td>GBR</td>\n",
       "      <td>France</td>\n",
       "      <td>NaN</td>\n",
       "      <td>NaN</td>\n",
       "      <td>1930-07-25</td>\n",
       "    </tr>\n",
       "  </tbody>\n",
       "</table>\n",
       "</div>"
      ]
     },
     "execution_count": 85,
     "metadata": {},
     "output_type": "execute_result"
    }
   ],
   "execution_count": 85
  },
  {
   "metadata": {
    "ExecuteTime": {
     "end_time": "2025-08-17T05:36:22.058808Z",
     "start_time": "2025-08-17T05:36:22.030799Z"
    }
   },
   "cell_type": "code",
   "source": "df.info()",
   "id": "9f6af0becb505c69",
   "outputs": [
    {
     "name": "stdout",
     "output_type": "stream",
     "text": [
      "<class 'pandas.core.frame.DataFrame'>\n",
      "RangeIndex: 145500 entries, 0 to 145499\n",
      "Data columns (total 10 columns):\n",
      " #   Column        Non-Null Count   Dtype  \n",
      "---  ------        --------------   -----  \n",
      " 0   athlete_id    145500 non-null  int64  \n",
      " 1   name          145500 non-null  object \n",
      " 2   born_date     143693 non-null  object \n",
      " 3   born_city     110908 non-null  object \n",
      " 4   born_region   110908 non-null  object \n",
      " 5   born_country  110908 non-null  object \n",
      " 6   NOC           145499 non-null  object \n",
      " 7   height_cm     106651 non-null  float64\n",
      " 8   weight_kg     102070 non-null  float64\n",
      " 9   died_date     33940 non-null   object \n",
      "dtypes: float64(2), int64(1), object(7)\n",
      "memory usage: 11.1+ MB\n"
     ]
    }
   ],
   "execution_count": 86
  },
  {
   "metadata": {
    "ExecuteTime": {
     "end_time": "2025-08-17T05:36:22.092363Z",
     "start_time": "2025-08-17T05:36:22.087484Z"
    }
   },
   "cell_type": "code",
   "source": "df.tail()",
   "id": "39e5850fb3f8d680",
   "outputs": [
    {
     "data": {
      "text/plain": [
       "        athlete_id                 name   born_date        born_city  \\\n",
       "145495      149222    Polina Luchnikova  2002-01-30            Serov   \n",
       "145496      149223  Valeriya Merkusheva  1999-09-20  Moskva (Moscow)   \n",
       "145497      149224      Yuliya Smirnova  1998-05-08           Kotlas   \n",
       "145498      149225       André Foussard  1899-05-19            Niort   \n",
       "145499      149814        Bill Phillips  1913-07-15     Dulwich Hill   \n",
       "\n",
       "            born_region born_country        NOC  height_cm  weight_kg  \\\n",
       "145495       Sverdlovsk          RUS        ROC      167.0       61.0   \n",
       "145496           Moskva          RUS        ROC      168.0       65.0   \n",
       "145497      Arkhangelsk          RUS        ROC      163.0       55.0   \n",
       "145498      Deux-Sèvres          FRA     France      166.0        NaN   \n",
       "145499  New South Wales          AUS  Australia        NaN        NaN   \n",
       "\n",
       "         died_date  \n",
       "145495         NaN  \n",
       "145496         NaN  \n",
       "145497         NaN  \n",
       "145498  1986-03-18  \n",
       "145499  2003-10-20  "
      ],
      "text/html": [
       "<div>\n",
       "<style scoped>\n",
       "    .dataframe tbody tr th:only-of-type {\n",
       "        vertical-align: middle;\n",
       "    }\n",
       "\n",
       "    .dataframe tbody tr th {\n",
       "        vertical-align: top;\n",
       "    }\n",
       "\n",
       "    .dataframe thead th {\n",
       "        text-align: right;\n",
       "    }\n",
       "</style>\n",
       "<table border=\"1\" class=\"dataframe\">\n",
       "  <thead>\n",
       "    <tr style=\"text-align: right;\">\n",
       "      <th></th>\n",
       "      <th>athlete_id</th>\n",
       "      <th>name</th>\n",
       "      <th>born_date</th>\n",
       "      <th>born_city</th>\n",
       "      <th>born_region</th>\n",
       "      <th>born_country</th>\n",
       "      <th>NOC</th>\n",
       "      <th>height_cm</th>\n",
       "      <th>weight_kg</th>\n",
       "      <th>died_date</th>\n",
       "    </tr>\n",
       "  </thead>\n",
       "  <tbody>\n",
       "    <tr>\n",
       "      <th>145495</th>\n",
       "      <td>149222</td>\n",
       "      <td>Polina Luchnikova</td>\n",
       "      <td>2002-01-30</td>\n",
       "      <td>Serov</td>\n",
       "      <td>Sverdlovsk</td>\n",
       "      <td>RUS</td>\n",
       "      <td>ROC</td>\n",
       "      <td>167.0</td>\n",
       "      <td>61.0</td>\n",
       "      <td>NaN</td>\n",
       "    </tr>\n",
       "    <tr>\n",
       "      <th>145496</th>\n",
       "      <td>149223</td>\n",
       "      <td>Valeriya Merkusheva</td>\n",
       "      <td>1999-09-20</td>\n",
       "      <td>Moskva (Moscow)</td>\n",
       "      <td>Moskva</td>\n",
       "      <td>RUS</td>\n",
       "      <td>ROC</td>\n",
       "      <td>168.0</td>\n",
       "      <td>65.0</td>\n",
       "      <td>NaN</td>\n",
       "    </tr>\n",
       "    <tr>\n",
       "      <th>145497</th>\n",
       "      <td>149224</td>\n",
       "      <td>Yuliya Smirnova</td>\n",
       "      <td>1998-05-08</td>\n",
       "      <td>Kotlas</td>\n",
       "      <td>Arkhangelsk</td>\n",
       "      <td>RUS</td>\n",
       "      <td>ROC</td>\n",
       "      <td>163.0</td>\n",
       "      <td>55.0</td>\n",
       "      <td>NaN</td>\n",
       "    </tr>\n",
       "    <tr>\n",
       "      <th>145498</th>\n",
       "      <td>149225</td>\n",
       "      <td>André Foussard</td>\n",
       "      <td>1899-05-19</td>\n",
       "      <td>Niort</td>\n",
       "      <td>Deux-Sèvres</td>\n",
       "      <td>FRA</td>\n",
       "      <td>France</td>\n",
       "      <td>166.0</td>\n",
       "      <td>NaN</td>\n",
       "      <td>1986-03-18</td>\n",
       "    </tr>\n",
       "    <tr>\n",
       "      <th>145499</th>\n",
       "      <td>149814</td>\n",
       "      <td>Bill Phillips</td>\n",
       "      <td>1913-07-15</td>\n",
       "      <td>Dulwich Hill</td>\n",
       "      <td>New South Wales</td>\n",
       "      <td>AUS</td>\n",
       "      <td>Australia</td>\n",
       "      <td>NaN</td>\n",
       "      <td>NaN</td>\n",
       "      <td>2003-10-20</td>\n",
       "    </tr>\n",
       "  </tbody>\n",
       "</table>\n",
       "</div>"
      ]
     },
     "execution_count": 87,
     "metadata": {},
     "output_type": "execute_result"
    }
   ],
   "execution_count": 87
  },
  {
   "metadata": {
    "ExecuteTime": {
     "end_time": "2025-08-17T05:36:22.139397Z",
     "start_time": "2025-08-17T05:36:22.130353Z"
    }
   },
   "cell_type": "code",
   "source": "df['born_country'].value_counts().head(10)",
   "id": "5af54c1e194238e5",
   "outputs": [
    {
     "data": {
      "text/plain": [
       "born_country\n",
       "USA    9641\n",
       "GER    6891\n",
       "GBR    5792\n",
       "FRA    5143\n",
       "ITA    4709\n",
       "CAN    4616\n",
       "RUS    4276\n",
       "AUS    3009\n",
       "POL    2942\n",
       "SWE    2853\n",
       "Name: count, dtype: int64"
      ]
     },
     "execution_count": 88,
     "metadata": {},
     "output_type": "execute_result"
    }
   ],
   "execution_count": 88
  },
  {
   "metadata": {
    "ExecuteTime": {
     "end_time": "2025-08-17T05:36:22.367241Z",
     "start_time": "2025-08-17T05:36:22.228177Z"
    }
   },
   "cell_type": "code",
   "source": [
    "top_countries = df['born_country'].value_counts().head(20).index\n",
    "plt.figure(figsize=(12, 6))\n",
    "ax = sns.countplot(data=df[df['born_country'].isin(top_countries)], y='born_country', order=top_countries)\n",
    "plt.title('Top 20 Countries of Birth')\n",
    "plt.xlabel('Count')\n",
    "plt.ylabel('Country')\n",
    "# Simplest way to show values on bars\n",
    "ax.bar_label(ax.containers[0])\n",
    "\n",
    "plt.show()\n"
   ],
   "id": "ed597ec8fbb82ae5",
   "outputs": [
    {
     "data": {
      "text/plain": [
       "<Figure size 1200x600 with 1 Axes>"
      ],
      "image/png": "[encoded data removed]"
     },
     "metadata": {},
     "output_type": "display_data"
    }
   ],
   "execution_count": 89
  }
 ],
 "metadata": {
  "kernelspec": {
   "name": "python3",
   "language": "python",
   "display_name": "Python 3 (ipykernel)"
  }
 },
 "nbformat": 4,
 "nbformat_minor": 5
}
